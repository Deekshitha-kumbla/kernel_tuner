{
 "cells": [
  {
   "cell_type": "markdown",
   "metadata": {},
   "source": [
    "# Tutorial: From physics to tuned GPU kernels\n",
    "\n",
    "This tutorial is designed to show you the whole process starting from modeling a physical process to a Python implementation to creating optimized and auto-tuned GPU application using Kernel Tuner.\n",
    "\n",
    "In this tutorial, we will use [diffusion](https://en.wikipedia.org/wiki/Diffusion) as an example application.\n",
    "\n",
    "We start with modeling the physical process of diffusion, for which we create a simple numerical implementation in Python. Then we create a CUDA kernel that performs the same computation, but on the GPU. Once we have a CUDA kernel, we start using the Kernel Tuner for auto-tuning our GPU application. And finally, we'll introduce a few code optimizations to our CUDA kernel that will improve performance, but also add more parameters to tune on using the Kernel Tuner.\n",
    "\n",
    "<div class=\"alert alert-info\">\n",
    "\n",
    "**Note:** If you are reading this tutorial on the Kernel Tuner's documentation pages, note that you can actually run this tutorial as a Jupyter Notebook. Just clone the Kernel Tuner's [GitHub repository](http://github.com/benvanwerkhoven/kernel_tuner). Install using *pip install .[tutorial,cuda]* and you're ready to go! You can start the tutorial by typing \"jupyter notebook\" in the \"kernel_tuner/tutorial\" directory.\n",
    "\n",
    "</div>"
   ]
  },
  {
   "cell_type": "markdown",
   "metadata": {},
   "source": [
    "## Diffusion\n",
    "\n",
    "Put simply, diffusion is the redistribution of something from a region of high concentration to a region of low concentration  without bulk motion. The concept of diffusion is widely used in many fields, including physics, chemistry, biology, and many more.\n",
    "\n",
    "Suppose that we take a metal sheet, in which the temperature is exactly equal to one degree everywhere in the sheet.\n",
    "Now if we were to heat a number of points on the sheet to a very high temperature, say a thousand degrees, in an instant by some method. We could see the heat diffuse from these hotspots to the cooler areas. We are assuming that the metal does not melt. In addition, we will ignore any heat loss from radiation or other causes in this example.\n",
    "\n",
    "We can use the [diffusion equation](https://en.wikipedia.org/wiki/Diffusion_equation) to model how the heat diffuses through our metal sheet:\n",
    "\n",
    "\\begin{equation*}\n",
    "\\frac{\\partial u}{\\partial t}= D \\left( \\frac{\\partial^2 u}{\\partial x^2} + \\frac{\\partial^2 u}{\\partial y^2} \\right)\n",
    "\\end{equation*}\n",
    "\n",
    "Where $x$ and $y$ represent the spatial descretization of our 2D domain, $u$ is the quantity that is being diffused, $t$ is the descretization in time, and the constant $D$ determines how fast the diffusion takes place.\n",
    "\n",
    "In this example, we will assume a very simple descretization of our problem. We assume that our 2D domain has $nx$ equi-distant grid points in the x-direction and $ny$ equi-distant grid points in the y-direction. Be sure to execute every cell as you read through this document, by selecting it and pressing **shift+enter**."
   ]
  },
  {
   "cell_type": "code",
   "execution_count": 1,
   "metadata": {},
   "outputs": [],
   "source": [
    "nx = 1024\n",
    "ny = 1024"
   ]
  },
  {
   "cell_type": "markdown",
   "metadata": {},
   "source": [
    "This results in a constant distance of $\\delta x$ between all grid points in the $x$ dimension. Using central differences, we can numerically approximate the derivative for a given point $x_i$:\n",
    "\n",
    "\\begin{equation*}\n",
    "\\left. \\frac{\\partial^2 u}{\\partial x^2} \\right|_{x_{i}} \\approx \\frac{u_{x_{i+1}}-2u_{{x_i}}+u_{x_{i-1}}}{(\\delta x)^2}\n",
    "\\end{equation*}\n",
    "\n",
    "We do the same for the partial derivative in $y$:\n",
    "\n",
    "\\begin{equation*}\n",
    "\\left. \\frac{\\partial^2 u}{\\partial y^2} \\right|_{y_{i}} \\approx \\frac{u_{y_{i+1}}-2u_{y_{i}}+u_{y_{i-1}}}{(\\delta y)^2}\n",
    "\\end{equation*}\n",
    "\n",
    "If we combine the above equations, we can obtain a numerical estimation for the temperature field of our metal sheet in the next time step, using $\\delta t$ as the time between time steps. But before we do, we also simplify the expression a little bit, because we'll assume that $\\delta x$ and $\\delta y$ are always equal to 1.\n",
    "\n",
    "\\begin{equation*}\n",
    "u'_{x,y} = u_{x,y} + \\delta t \\times \\left( \\left( u_{x_{i+1},y}-2u_{{x_i},y}+u_{x_{i-1},y} \\right) + \\left( u_{x,y_{i+1}}-2u_{x,y_{i}}+u_{x,y_{i-1}} \\right) \\right)\n",
    "\\end{equation*}\n",
    "\n",
    "In this formula $u'_{x,y}$ refers to the temperature field at the time $t + \\delta t$. As a final step, we further simplify this equation to:\n",
    "\n",
    "\\begin{equation*}\n",
    "u'_{x,y} = u_{x,y} + \\delta t \\times \\left( u_{x,y_{i+1}}+u_{x_{i+1},y}-4u_{{x_i},y}+u_{x_{i-1},y}+u_{x,y_{i-1}} \\right)\n",
    "\\end{equation*}"
   ]
  },
  {
   "cell_type": "markdown",
   "metadata": {},
   "source": [
    "## Python implementation\n",
    "\n",
    "We can create a Python function that implements the numerical approximation defined in the above equation. For simplicity we'll use the assumption of a free boundary condition."
   ]
  },
  {
   "cell_type": "code",
   "execution_count": 2,
   "metadata": {},
   "outputs": [],
   "source": [
    "def diffuse(field, dt=0.225):\n",
    "    field[1:nx-1,1:ny-1] = field[1:nx-1,1:ny-1] + dt * (\n",
    "        field[1:nx-1,2:ny]+field[2:nx,1:ny-1]-4*field[1:nx-1,1:ny-1]+\n",
    "        field[0:nx-2,1:ny-1]+field[1:nx-1,0:ny-2] ) \n",
    "    return field"
   ]
  },
  {
   "cell_type": "markdown",
   "metadata": {},
   "source": [
    "To give our Python function a test run, we will now do some imports and generate the input data for the initial conditions of our metal sheet with a few very hot points. We'll also make two plots, one after a thousand time steps, and a second plot after another two thousand time steps. Do note that the plots are using different ranges for the colors. Also, executing the following cell may take a little while."
   ]
  },
  {
   "cell_type": "code",
   "execution_count": 3,
   "metadata": {},
   "outputs": [
    {
     "data": {
      "text/plain": [
       "<matplotlib.image.AxesImage at 0x7f00fd428a58>"
      ]
     },
     "execution_count": 3,
     "metadata": {},
     "output_type": "execute_result"
    },
    {
     "data": {
      "image/png": "[encoded data removed]",
      "text/plain": [
       "<matplotlib.figure.Figure at 0x7f01246756d8>"
      ]
     },
     "metadata": {},
     "output_type": "display_data"
    }
   ],
   "source": [
    "#do the imports we need\n",
    "import numpy\n",
    "from matplotlib import pyplot\n",
    "%matplotlib inline\n",
    "\n",
    "#setup initial conditions\n",
    "def get_initial_conditions(nx, ny):\n",
    "    field = numpy.ones((ny, nx)).astype(numpy.float32)\n",
    "    field[numpy.random.randint(0,nx,size=10), numpy.random.randint(0,ny,size=10)] = 1e3\n",
    "    return field\n",
    "field = get_initial_conditions(nx, ny)\n",
    "\n",
    "#run the diffuse function a 1000 times and another 2000 times and make plots\n",
    "fig, (ax1, ax2) = pyplot.subplots(1,2)\n",
    "for i in range(1000):\n",
    "    field = diffuse(field)\n",
    "ax1.imshow(field)\n",
    "for i in range(2000):\n",
    "    field = diffuse(field)\n",
    "ax2.imshow(field)"
   ]
  },
  {
   "cell_type": "markdown",
   "metadata": {},
   "source": [
    "Now let's take a quick look at the execution time of our diffuse function. Before we do, we also copy the current state of the metal sheet to be able to restart the computation from this state."
   ]
  },
  {
   "cell_type": "code",
   "execution_count": 4,
   "metadata": {},
   "outputs": [
    {
     "name": "stdout",
     "output_type": "stream",
     "text": [
      "CPU times: user 7.91 s, sys: 116 ms, total: 8.03 s\n",
      "Wall time: 7.97 s\n"
     ]
    }
   ],
   "source": [
    "%%time\n",
    "\n",
    "#save the current field for later use\n",
    "field_copy = numpy.copy(field)\n",
    "\n",
    "#run another 1000 steps of the diffuse function and measure the time\n",
    "for i in range(1000):\n",
    "    field = diffuse(field)"
   ]
  },
  {
   "cell_type": "code",
   "execution_count": 5,
   "metadata": {},
   "outputs": [
    {
     "data": {
      "image/png": "[encoded data removed]",
      "text/plain": [
       "<matplotlib.figure.Figure at 0x7f012466abe0>"
      ]
     },
     "metadata": {},
     "output_type": "display_data"
    }
   ],
   "source": [
    "pyplot.imshow(field)\n",
    "pyplot.show()"
   ]
  },
  {
   "cell_type": "markdown",
   "metadata": {
    "collapsed": true
   },
   "source": [
    "## Computing on the GPU\n",
    "\n",
    "The next step in this tutorial is to implement a GPU kernel that will allow us to run our problem on the GPU. We store the kernel code in a Python string, because we can directly compile and run the kernel from Python. In this tutorial, we'll use the OpenCL programming model to implement our kernels."
   ]
  },
  {
   "cell_type": "code",
   "execution_count": 6,
   "metadata": {},
   "outputs": [],
   "source": [
    "def get_kernel_string(nx, ny):\n",
    "    return \"\"\"\n",
    "    #define nx %d\n",
    "    #define ny %d\n",
    "    #define dt 0.225f\n",
    "    __kernel void diffuse_kernel(global float *u_new, global float *u) {\n",
    "        unsigned x = get_group_id(0) * block_size_x + get_local_id(0);\n",
    "        unsigned y = get_group_id(1) * block_size_y + get_local_id(1);\n",
    "\n",
    "        if (x>0 && x<nx-1 && y>0 && y<ny-1) {\n",
    "            u_new[y*nx+x] = u[y*nx+x] + dt * (\n",
    "                u[(y+1)*nx+x]+u[y*nx+x+1]-4.0f*u[y*nx+x]+u[y*nx+x-1]+u[(y-1)*nx+x]);\n",
    "        }\n",
    "    }\n",
    "    \"\"\" % (nx, ny)\n",
    "kernel_string = get_kernel_string(nx, ny)"
   ]
  },
  {
   "cell_type": "markdown",
   "metadata": {},
   "source": [
    "The above OpenCL kernel parallelizes the work such that every grid point will be processed by a different OpenCL thread. Therefore, the kernel is executed by a 2D grid of threads, which are grouped together into 2D thread blocks. The specific thread block dimensions we choose are not important for the result of the computation in this kernel. But as we will see will later, they will have an impact on performance.\n",
    "\n",
    "In this kernel we are using two, currently undefined, compile-time constants for `block_size_x` and `block_size_y`, because we will auto tune these parameters later. It is often needed for performance to fix the thread block dimensions at compile time, because the compiler can unroll loops that iterate using the block size, or because you need to allocate shared memory using the thread block dimensions.\n",
    "\n",
    "The next bit of Python code initializes PyOpenCL, and makes preparations so that we can call the OpenCL kernel to do the computation on the GPU as we did earlier in Python."
   ]
  },
  {
   "cell_type": "code",
   "execution_count": 7,
   "metadata": {},
   "outputs": [],
   "source": [
    "import pyopencl as cl\n",
    "\n",
    "#initialize PyCuda and get compute capability needed for compilation\n",
    "ctx = cl.create_some_context()\n",
    "mf = cl.mem_flags\n",
    "\n",
    "#reserve host memory\n",
    "a_h = field_copy.astype(numpy.float32)\n",
    "\n",
    "#allocate GPU memory (and copy from host buffer)\n",
    "a_d = cl.Buffer(ctx, mf.READ_WRITE | mf.COPY_HOST_PTR, hostbuf=a_h)\n",
    "b_d = cl.Buffer(ctx, mf.READ_WRITE | mf.COPY_HOST_PTR, hostbuf=a_h)\n",
    "\n",
    "#setup thread block dimensions and compile the kernel\n",
    "threads = (16,16)\n",
    "kernel_src = \"#define block_size_x %d\\n#define block_size_y %d\" % threads \\\n",
    "    + get_kernel_string(nx, ny)\n",
    "prg = cl.Program(ctx, kernel_src).build()"
   ]
  },
  {
   "cell_type": "markdown",
   "metadata": {
    "collapsed": true
   },
   "source": [
    "The above code is a bit of boilerplate we need to compile a kernel using PyOpenCL. We've also, for the moment, fixed the thread block dimensions at 16 by 16. These dimensions serve as our initial guess for what a good performing pair of thread block dimensions could look like.\n",
    "\n",
    "Now that we've setup everything, let's see how long the computation would take using the GPU."
   ]
  },
  {
   "cell_type": "code",
   "execution_count": 8,
   "metadata": {},
   "outputs": [
    {
     "name": "stdout",
     "output_type": "stream",
     "text": [
      "CPU times: user 390 ms, sys: 158 ms, total: 548 ms\n",
      "Wall time: 537 ms\n"
     ]
    }
   ],
   "source": [
    "queue = cl.CommandQueue(ctx)\n",
    "\n",
    "def run_gpu():\n",
    "    for i in range(500):\n",
    "        prg.diffuse_kernel(\n",
    "            queue, [nx, ny], threads, b_d, a_d)\n",
    "        prg.diffuse_kernel(\n",
    "            queue, [nx, ny], threads, a_d, b_d)\n",
    "\n",
    "%time run_gpu()"
   ]
  },
  {
   "cell_type": "code",
   "execution_count": 9,
   "metadata": {},
   "outputs": [
    {
     "data": {
      "image/png": "[encoded data removed]",
      "text/plain": [
       "<matplotlib.figure.Figure at 0x7f00fcd47470>"
      ]
     },
     "metadata": {},
     "output_type": "display_data"
    }
   ],
   "source": [
    "#copy the result from the GPU to Python for plotting\n",
    "cl.enqueue_copy(queue, a_h, a_d)\n",
    "queue.finish()\n",
    "\n",
    "fig, (ax1, ax2) = pyplot.subplots(1,2)\n",
    "ax1.imshow(a_h)\n",
    "ax1.set_title(\"GPU Result\")\n",
    "ax2.imshow(field)\n",
    "ax2.set_title(\"Python Result\")\n",
    "pyplot.show()"
   ]
  },
  {
   "cell_type": "markdown",
   "metadata": {},
   "source": [
    "That should already be a lot faster than our previous Python implementation, but we can do much better if we optimize our GPU kernel. And that is exactly what the rest of this tutorial is about!\n",
    "\n",
    "Also, if you think the Python boilerplate code to call a GPU kernel was a bit messy, we've got good news for you! From now on, we'll only use the Kernel Tuner to compile and benchmark GPU kernels, which we can do with much cleaner Python code."
   ]
  },
  {
   "cell_type": "markdown",
   "metadata": {},
   "source": [
    "## Auto-Tuning with the Kernel Tuner\n",
    "\n",
    "Remember that previously we've set the thread block dimensions to 16 by 16. But how do we actually know if that is the best performing setting? That is where auto-tuning comes into play. Basically, it is very difficult to provide an answer through performance modeling and as such, we'd rather use the Kernel Tuner to compile and benchmark all possible kernel configurations.\n",
    "\n",
    "But before we continue, we'll increase the problem size, because the GPU is very likely underutilized."
   ]
  },
  {
   "cell_type": "code",
   "execution_count": 10,
   "metadata": {},
   "outputs": [],
   "source": [
    "nx = 4096\n",
    "ny = 4096\n",
    "field = get_initial_conditions(nx, ny)\n",
    "kernel_string = get_kernel_string(nx, ny)"
   ]
  },
  {
   "cell_type": "markdown",
   "metadata": {},
   "source": [
    "The above code block has generated new initial conditions and a new string that contains our CUDA kernel using our new domain size.\n",
    "\n",
    "To call the Kernel Tuner, we have to specify the tunable parameters, in our case `block_size_x` and `block_size_y`. For this purpose, we'll create an ordered dictionary to store the tunable parameters. The keys will be the name of the tunable parameter, and the corresponding value is the list of possible values for the parameter. For the purpose of this tutorial, we'll use a small number of commonly used values for the thread block dimensions, but feel free to try more!"
   ]
  },
  {
   "cell_type": "code",
   "execution_count": 11,
   "metadata": {},
   "outputs": [],
   "source": [
    "from collections import OrderedDict\n",
    "tune_params = OrderedDict()\n",
    "tune_params[\"block_size_x\"] = [16, 32, 48, 64, 128]\n",
    "tune_params[\"block_size_y\"] = [2, 4, 8, 16, 32]"
   ]
  },
  {
   "cell_type": "markdown",
   "metadata": {},
   "source": [
    "We also have to tell the Kernel Tuner about the argument list of our CUDA kernel. Because the Kernel Tuner will be calling the CUDA kernel and measure its execution time. For this purpose we create a list in Python, that corresponds with the argument list of the `diffuse_kernel` CUDA function. This list will only be used as input to the kernel during tuning. The objects in the list should be Numpy arrays or scalars.\n",
    "\n",
    "Because you can specify the arguments as Numpy arrays, the Kernel Tuner will take care of allocating GPU memory and copying the data to the GPU."
   ]
  },
  {
   "cell_type": "code",
   "execution_count": 12,
   "metadata": {},
   "outputs": [],
   "source": [
    "args = [field, field]"
   ]
  },
  {
   "cell_type": "markdown",
   "metadata": {},
   "source": [
    "We're almost ready to call the Kernel Tuner, we just need to set how large the problem is we are currently working on by setting a `problem_size`. The Kernel Tuner knows about thread block dimensions, which it expects to be called `block_size_x`, `block_size_y`, and/or `block_size_z`. From these and the `problem_size`, the Kernel Tuner will compute the appropiate grid dimensions on the fly."
   ]
  },
  {
   "cell_type": "code",
   "execution_count": 13,
   "metadata": {},
   "outputs": [],
   "source": [
    "problem_size = (nx, ny)"
   ]
  },
  {
   "cell_type": "markdown",
   "metadata": {},
   "source": [
    "And that's everything the Kernel Tuner needs to know to be able to start tuning our kernel. Let's give it a try by executing the next code block!"
   ]
  },
  {
   "cell_type": "code",
   "execution_count": 14,
   "metadata": {},
   "outputs": [
    {
     "name": "stdout",
     "output_type": "stream",
     "text": [
      "Using: Intel(R) HD Graphics 5500 BroadWell U-Processor GT2\n",
      "block_size_x=16, block_size_y=2, time=9.061536\n",
      "block_size_x=16, block_size_y=4, time=9.644784\n",
      "block_size_x=16, block_size_y=8, time=10.707824\n",
      "block_size_x=16, block_size_y=16, time=11.848848\n",
      "block_size_x=16, block_size_y=32, time=11.06048\n",
      "block_size_x=32, block_size_y=2, time=10.22968\n",
      "block_size_x=32, block_size_y=4, time=9.779024\n",
      "block_size_x=32, block_size_y=8, time=10.3376\n",
      "block_size_x=32, block_size_y=16, time=10.68552\n",
      "block_size_x=48, block_size_y=2, time=10.054848\n",
      "block_size_x=48, block_size_y=4, time=11.152\n",
      "block_size_x=48, block_size_y=8, time=12.227392\n",
      "block_size_x=64, block_size_y=2, time=10.30504\n",
      "block_size_x=64, block_size_y=4, time=9.927504\n",
      "block_size_x=64, block_size_y=8, time=10.972544\n",
      "block_size_x=128, block_size_y=2, time=9.067408\n",
      "block_size_x=128, block_size_y=4, time=10.596384\n",
      "best performing configuration: block_size_x=16, block_size_y=2, time=9.061536\n"
     ]
    }
   ],
   "source": [
    "from kernel_tuner import tune_kernel\n",
    "result = tune_kernel(\"diffuse_kernel\", kernel_string, problem_size, args, tune_params)"
   ]
  },
  {
   "cell_type": "markdown",
   "metadata": {},
   "source": [
    "Note that the Kernel Tuner prints a lot of useful information. To ensure you'll be able to tell what was measured in this run the Kernel Tuner always prints the GPU or OpenCL Device name that is being used, as well as the name of the kernel.\n",
    "After that every line contains the combination of parameters and the time that was measured during benchmarking. The time that is being printed is in milliseconds and is obtained by averaging the execution time of 7 runs of the kernel. Finally, as a matter of convenience, the Kernel Tuner also prints the best performing combination of tunable parameters. However, later on in this tutorial we'll explain how to analyze and store the tuning results using Python.\n",
    "\n",
    "Looking at the results printed above, the difference in performance between the different kernel configurations may seem very little. However, on our hardware, the performance of this kernel already varies in the order of 10%. Which of course can build up to large differences in the execution time if the kernel is to be executed thousands of times. We can also see that the performance of the best configuration in this set is 5% better than our initially guessed thread block dimensions of 16 by 16.\n",
    "\n",
    "In addtion, you may notice that not all possible combinations of values for `block_size_x` and `block_size_y` are among the results. For example, 128x32 is not among the results. This is because some configuration require more threads per thread block than allowed on our GPU. The Kernel Tuner checks the limitations of your GPU at runtime and automatically skips over configurations that use too many threads per block. It will also do this for kernels that cannot be compiled because they use too much shared memory. And likewise for kernels that use too many registers to be launched at runtime. If you'd like to know about which configurations were skipped automatically you can pass the optional parameter `verbose=True` to `tune_kernel`.\n",
    "\n",
    "However, knowing the best performing combination of tunable parameters becomes even more important when we start to further optimize our CUDA kernel. In the next section, we'll add a simple code optimization and show how this affects performance."
   ]
  },
  {
   "cell_type": "markdown",
   "metadata": {},
   "source": [
    "## Using Shared Memory\n",
    "\n",
    "Shared memory, is a special type of the memory available in CUDA. Shared memory can be used by threads within the same thread block to exchange and share values. It is in fact, one of the very few ways for threads to communicate on the GPU.\n",
    "\n",
    "The idea is that we'll try improve the performance of our kernel by using shared memory as a software controlled cache. There are already caches on the GPU, but most GPUs only cache accesses to global memory in L2. Shared memory is closer to the multiprocessors where the thread blocks are executed, comparable to an L1 cache.\n",
    "\n",
    "However, because there are also hardware caches, the performance improvement from this step is expected to not be that great. The more fine-grained control that we get by using a software managed cache, rather than a hardware implemented cache, comes at the cost of some instruction overhead. In fact, performance is quite likely to degrade a little. However, this intermediate step is necessary for the next optimization step we have in mind."
   ]
  },
  {
   "cell_type": "code",
   "execution_count": 15,
   "metadata": {},
   "outputs": [
    {
     "name": "stdout",
     "output_type": "stream",
     "text": [
      "Using: Intel(R) HD Graphics 5500 BroadWell U-Processor GT2\n",
      "block_size_x=16, block_size_y=2, time=42.599184\n",
      "block_size_x=16, block_size_y=4, time=23.433536\n",
      "block_size_x=16, block_size_y=8, time=20.790576\n",
      "block_size_x=16, block_size_y=16, time=24.32824\n",
      "block_size_x=16, block_size_y=32, time=36.083696\n",
      "block_size_x=32, block_size_y=2, time=23.23464\n",
      "block_size_x=32, block_size_y=4, time=19.369776\n",
      "block_size_x=32, block_size_y=8, time=22.225936\n",
      "block_size_x=32, block_size_y=16, time=34.676816\n",
      "block_size_x=48, block_size_y=2, time=20.118144\n",
      "block_size_x=48, block_size_y=4, time=22.006224\n",
      "block_size_x=48, block_size_y=8, time=22.871824\n",
      "block_size_x=64, block_size_y=2, time=19.508912\n",
      "block_size_x=64, block_size_y=4, time=22.063584\n",
      "block_size_x=64, block_size_y=8, time=33.925136\n",
      "block_size_x=128, block_size_y=2, time=22.701376\n",
      "block_size_x=128, block_size_y=4, time=34.23488\n",
      "best performing configuration: block_size_x=32, block_size_y=4, time=19.369776\n"
     ]
    }
   ],
   "source": [
    "kernel_string = \"\"\"\n",
    "#define nx %d\n",
    "#define ny %d\n",
    "#define dt 0.225f\n",
    "__kernel void diffuse_kernel(global float *u_new, global float *u) {\n",
    "\n",
    "    int tx = get_local_id(0);\n",
    "    int ty = get_local_id(1);\n",
    "    int bx = get_group_id(0) * block_size_x;\n",
    "    int by = get_group_id(1) * block_size_y;\n",
    "\n",
    "    __local float sh_u[block_size_y+2][block_size_x+2];\n",
    "\n",
    "    #pragma unroll\n",
    "    for (int i = ty; i<block_size_y+2; i+=block_size_y) {\n",
    "        #pragma unroll\n",
    "        for (int j = tx; j<block_size_x+2; j+=block_size_x) {\n",
    "            int y = by+i-1;\n",
    "            int x = bx+j-1;\n",
    "            if (x>=0 && x<nx && y>=0 && y<ny) {\n",
    "                sh_u[i][j] = u[y*nx+x];\n",
    "            }\n",
    "        }\n",
    "    }\n",
    "    barrier(CLK_LOCAL_MEM_FENCE);  // __syncthreads();\n",
    "\n",
    "    int x = bx+tx;\n",
    "    int y = by+ty;\n",
    "    if (x>0 && x<nx-1 && y>0 && y<ny-1) {\n",
    "        int i = ty+1;\n",
    "        int j = tx+1;\n",
    "        u_new[y*nx+x] = sh_u[i][j] + dt * (\n",
    "            sh_u[i+1][j] + sh_u[i][j+1] -4.0f * sh_u[i][j] +\n",
    "            sh_u[i][j-1] + sh_u[i-1][j] );\n",
    "    }\n",
    "\n",
    "}\n",
    "\"\"\" % (nx, ny)\n",
    "result = tune_kernel(\"diffuse_kernel\", kernel_string, problem_size, args, tune_params)"
   ]
  },
  {
   "cell_type": "markdown",
   "metadata": {},
   "source": [
    "## Tiling GPU Code\n",
    "\n",
    "One very useful code optimization is called tiling, sometimes also called thread-block-merge. You can look at it in this way, currently we have many thread blocks that together work on the entire domain. If we were to use only half of the number of thread blocks, every thread block would need to double the amount of work it performs to cover the entire domain. However, the threads may be able to reuse part of the data and computation that is required to process a single output element for every element beyond the first.\n",
    "\n",
    "This is a code optimization because effectively we are reducing the total number of instructions executed by all threads in all thread blocks. So in a way, were are condensing the total instruction stream while keeping the all the really necessary compute instructions. More importantly, we are increasing data reuse, where previously these values would have been reused from the cache or in the worst-case from GPU memory.\n",
    "\n",
    "We can apply tiling in both the x and y-dimensions. This also introduces two new tunable parameters, namely the tiling factor in x and y, which we will call `tile_size_x` and `tile_size_y`. \n",
    "This is what the new kernel looks like:"
   ]
  },
  {
   "cell_type": "code",
   "execution_count": 16,
   "metadata": {},
   "outputs": [],
   "source": [
    "kernel_string = \"\"\"\n",
    "#define nx %d\n",
    "#define ny %d\n",
    "#define dt 0.225f\n",
    "__kernel void diffuse_kernel(global float *u_new, global float *u) {\n",
    "    int tx = get_local_id(0);\n",
    "    int ty = get_local_id(1);\n",
    "    int bx = get_group_id(0) * block_size_x * tile_size_x;\n",
    "    int by = get_group_id(1) * block_size_y * tile_size_y;\n",
    "    \n",
    "    /*\n",
    "    int tx = threadIdx.x;\n",
    "    int ty = threadIdx.y;\n",
    "    int bx = blockIdx.x * block_size_x * tile_size_x;\n",
    "    int by = blockIdx.y * block_size_y * tile_size_y;\n",
    "    */\n",
    "    __local float sh_u[block_size_y*tile_size_y+2][block_size_x*tile_size_x+2];\n",
    "\n",
    "    #pragma unroll\n",
    "    for (int i = ty; i<block_size_y*tile_size_y+2; i+=block_size_y) {\n",
    "        #pragma unroll\n",
    "        for (int j = tx; j<block_size_x*tile_size_x+2; j+=block_size_x) {\n",
    "            int y = by+i-1;\n",
    "            int x = bx+j-1;\n",
    "            if (x>=0 && x<nx && y>=0 && y<ny) {\n",
    "                sh_u[i][j] = u[y*nx+x];\n",
    "            }\n",
    "        }\n",
    "    }\n",
    "    barrier(CLK_LOCAL_MEM_FENCE);  // __syncthreads();\n",
    "\n",
    "    int y = by+ty;\n",
    "    int x = bx+tx;\n",
    "\n",
    "    #pragma unroll\n",
    "    for (int tj=0; tj<tile_size_y; tj++) {\n",
    "        int i = ty+tj*block_size_y+1;\n",
    "        #pragma unroll\n",
    "        for (int ti=0; ti<tile_size_x; ti++) {\n",
    "            int j = tx+ti*block_size_x+1;\n",
    "            if (x>0 && x+ti*block_size_x<nx-1 && y>0 && y+tj*block_size_y<ny-1) {\n",
    "                u_new[y*nx+x+ti*block_size_x] = sh_u[i][j] + dt * (\n",
    "                    sh_u[i+1][j] + sh_u[i][j+1] -4.0f * sh_u[i][j] +\n",
    "                    sh_u[i][j-1] + sh_u[i-1][j] );\n",
    "            }\n",
    "        }\n",
    "\n",
    "    }\n",
    "\n",
    "}\n",
    "\"\"\" % (nx, ny)"
   ]
  },
  {
   "cell_type": "markdown",
   "metadata": {},
   "source": [
    "We can tune our tiled kernel by adding the two new tunable parameters to our dictionary `tune_params`.\n",
    "\n",
    "We also need to somehow tell the Kernel Tuner to use fewer thread blocks to launch kernels with `tile_size_x` or `tile_size_y` larger than one. For this purpose the Kernel Tuner's `tune_kernel` function supports two optional arguments, called grid_div_x and grid_div_y. These are the grid divisor lists, which are lists of strings containing all the tunable parameters that divide a certain grid dimension. So far, we have been using the default settings for these, in which case the Kernel Tuner only uses the block_size_x and block_size_y tunable parameters to divide the problem_size.\n",
    "\n",
    "Note that the Kernel Tuner will replace the values of the tunable parameters inside the strings and use the product of the parameters in the grid divisor list to compute the grid dimension rounded up. You can even use arithmetic operations, inside these strings as they will be evaluated. As such, we could have used ``[\"block_size_x*tile_size_x\"]`` to get the same result.\n",
    "\n",
    "We are now ready to call the Kernel Tuner again and tune our tiled kernel. Let's execute the following code block, note that it may take a while as the number of kernel configurations that the Kernel Tuner will try has just been increased with a factor of 9!"
   ]
  },
  {
   "cell_type": "code",
   "execution_count": 17,
   "metadata": {},
   "outputs": [
    {
     "name": "stdout",
     "output_type": "stream",
     "text": [
      "Using: Intel(R) HD Graphics 5500 BroadWell U-Processor GT2\n",
      "block_size_x=16, block_size_y=2, tile_size_x=1, tile_size_y=1, time=42.312864\n",
      "block_size_x=16, block_size_y=2, tile_size_x=1, tile_size_y=2, time=26.258032\n",
      "block_size_x=16, block_size_y=2, tile_size_x=1, tile_size_y=4, time=21.8444\n",
      "block_size_x=16, block_size_y=2, tile_size_x=2, tile_size_y=1, time=24.614624\n",
      "block_size_x=16, block_size_y=2, tile_size_x=2, tile_size_y=2, time=19.182608\n",
      "block_size_x=16, block_size_y=2, tile_size_x=2, tile_size_y=4, time=16.524848\n",
      "block_size_x=16, block_size_y=2, tile_size_x=4, tile_size_y=1, time=20.276512\n",
      "block_size_x=16, block_size_y=2, tile_size_x=4, tile_size_y=2, time=16.155264\n",
      "block_size_x=16, block_size_y=2, tile_size_x=4, tile_size_y=4, time=14.315408\n",
      "block_size_x=16, block_size_y=4, tile_size_x=1, tile_size_y=1, time=23.404352\n",
      "block_size_x=16, block_size_y=4, tile_size_x=1, tile_size_y=2, time=15.967616\n",
      "block_size_x=16, block_size_y=4, tile_size_x=1, tile_size_y=4, time=13.296032\n",
      "block_size_x=16, block_size_y=4, tile_size_x=2, tile_size_y=1, time=15.04216\n",
      "block_size_x=16, block_size_y=4, tile_size_x=2, tile_size_y=2, time=11.707152\n",
      "block_size_x=16, block_size_y=4, tile_size_x=2, tile_size_y=4, time=10.064528\n",
      "block_size_x=16, block_size_y=4, tile_size_x=4, tile_size_y=1, time=12.451968\n",
      "block_size_x=16, block_size_y=4, tile_size_x=4, tile_size_y=2, time=9.985392\n",
      "block_size_x=16, block_size_y=4, tile_size_x=4, tile_size_y=4, time=14.340768\n",
      "block_size_x=16, block_size_y=8, tile_size_x=1, tile_size_y=1, time=20.944192\n",
      "block_size_x=16, block_size_y=8, tile_size_x=1, tile_size_y=2, time=16.163232\n",
      "block_size_x=16, block_size_y=8, tile_size_x=1, tile_size_y=4, time=13.818288\n",
      "block_size_x=16, block_size_y=8, tile_size_x=2, tile_size_y=1, time=15.162304\n",
      "block_size_x=16, block_size_y=8, tile_size_x=2, tile_size_y=2, time=11.938464\n",
      "block_size_x=16, block_size_y=8, tile_size_x=2, tile_size_y=4, time=10.54176\n",
      "block_size_x=16, block_size_y=8, tile_size_x=4, tile_size_y=1, time=12.600064\n",
      "block_size_x=16, block_size_y=8, tile_size_x=4, tile_size_y=2, time=10.384688\n",
      "block_size_x=16, block_size_y=8, tile_size_x=4, tile_size_y=4, time=15.16256\n",
      "block_size_x=16, block_size_y=16, tile_size_x=1, tile_size_y=1, time=25.360336\n",
      "block_size_x=16, block_size_y=16, tile_size_x=1, tile_size_y=2, time=19.081792\n",
      "block_size_x=16, block_size_y=16, tile_size_x=1, tile_size_y=4, time=15.8788\n",
      "block_size_x=16, block_size_y=16, tile_size_x=2, tile_size_y=1, time=18.603536\n",
      "block_size_x=16, block_size_y=16, tile_size_x=2, tile_size_y=2, time=15.080992\n",
      "block_size_x=16, block_size_y=16, tile_size_x=2, tile_size_y=4, time=12.406368\n",
      "block_size_x=16, block_size_y=16, tile_size_x=4, tile_size_y=1, time=14.904272\n",
      "block_size_x=16, block_size_y=16, tile_size_x=4, tile_size_y=2, time=12.59128\n",
      "block_size_x=16, block_size_y=16, tile_size_x=4, tile_size_y=4, time=15.92936\n",
      "block_size_x=16, block_size_y=32, tile_size_x=1, tile_size_y=1, time=37.159584\n",
      "block_size_x=16, block_size_y=32, tile_size_x=1, tile_size_y=2, time=28.382144\n",
      "block_size_x=16, block_size_y=32, tile_size_x=1, tile_size_y=4, time=25.30784\n",
      "block_size_x=16, block_size_y=32, tile_size_x=2, tile_size_y=1, time=27.764144\n",
      "block_size_x=16, block_size_y=32, tile_size_x=2, tile_size_y=2, time=22.11072\n",
      "block_size_x=16, block_size_y=32, tile_size_x=2, tile_size_y=4, time=19.371824\n",
      "block_size_x=16, block_size_y=32, tile_size_x=4, tile_size_y=1, time=22.708608\n",
      "block_size_x=16, block_size_y=32, tile_size_x=4, tile_size_y=2, time=18.594016\n",
      "block_size_x=16, block_size_y=32, tile_size_x=4, tile_size_y=4, time=16.400208\n",
      "block_size_x=32, block_size_y=2, tile_size_x=1, tile_size_y=1, time=23.39344\n",
      "block_size_x=32, block_size_y=2, tile_size_x=1, tile_size_y=2, time=14.718528\n",
      "block_size_x=32, block_size_y=2, tile_size_x=1, tile_size_y=4, time=12.098352\n",
      "block_size_x=32, block_size_y=2, tile_size_x=2, tile_size_y=1, time=15.105632\n",
      "block_size_x=32, block_size_y=2, tile_size_x=2, tile_size_y=2, time=11.536256\n",
      "block_size_x=32, block_size_y=2, tile_size_x=2, tile_size_y=4, time=9.71248\n",
      "block_size_x=32, block_size_y=2, tile_size_x=4, tile_size_y=1, time=12.458144\n",
      "block_size_x=32, block_size_y=2, tile_size_x=4, tile_size_y=2, time=9.970624\n",
      "block_size_x=32, block_size_y=2, tile_size_x=4, tile_size_y=4, time=14.261136\n",
      "block_size_x=32, block_size_y=4, tile_size_x=1, tile_size_y=1, time=19.828256\n",
      "block_size_x=32, block_size_y=4, tile_size_x=1, tile_size_y=2, time=14.749264\n",
      "block_size_x=32, block_size_y=4, tile_size_x=1, tile_size_y=4, time=12.41752\n",
      "block_size_x=32, block_size_y=4, tile_size_x=2, tile_size_y=1, time=15.286816\n",
      "block_size_x=32, block_size_y=4, tile_size_x=2, tile_size_y=2, time=11.681088\n",
      "block_size_x=32, block_size_y=4, tile_size_x=2, tile_size_y=4, time=9.607056\n",
      "block_size_x=32, block_size_y=4, tile_size_x=4, tile_size_y=1, time=12.303296\n",
      "block_size_x=32, block_size_y=4, tile_size_x=4, tile_size_y=2, time=9.946544\n",
      "block_size_x=32, block_size_y=4, tile_size_x=4, tile_size_y=4, time=14.190784\n",
      "block_size_x=32, block_size_y=8, tile_size_x=1, tile_size_y=1, time=23.116288\n",
      "block_size_x=32, block_size_y=8, tile_size_x=1, tile_size_y=2, time=17.430928\n",
      "block_size_x=32, block_size_y=8, tile_size_x=1, tile_size_y=4, time=14.371104\n",
      "block_size_x=32, block_size_y=8, tile_size_x=2, tile_size_y=1, time=16.88744\n",
      "block_size_x=32, block_size_y=8, tile_size_x=2, tile_size_y=2, time=13.103728\n",
      "block_size_x=32, block_size_y=8, tile_size_x=2, tile_size_y=4, time=11.137312\n",
      "block_size_x=32, block_size_y=8, tile_size_x=4, tile_size_y=1, time=14.336496\n",
      "block_size_x=32, block_size_y=8, tile_size_x=4, tile_size_y=2, time=11.985328\n",
      "block_size_x=32, block_size_y=8, tile_size_x=4, tile_size_y=4, time=14.756832\n",
      "block_size_x=32, block_size_y=16, tile_size_x=1, tile_size_y=1, time=35.967648\n",
      "block_size_x=32, block_size_y=16, tile_size_x=1, tile_size_y=2, time=27.139472\n",
      "block_size_x=32, block_size_y=16, tile_size_x=1, tile_size_y=4, time=22.848784\n",
      "block_size_x=32, block_size_y=16, tile_size_x=2, tile_size_y=1, time=26.278176\n",
      "block_size_x=32, block_size_y=16, tile_size_x=2, tile_size_y=2, time=20.341008\n",
      "block_size_x=32, block_size_y=16, tile_size_x=2, tile_size_y=4, time=17.112352\n",
      "block_size_x=32, block_size_y=16, tile_size_x=4, tile_size_y=1, time=21.72264\n",
      "block_size_x=32, block_size_y=16, tile_size_x=4, tile_size_y=2, time=17.48616\n",
      "block_size_x=32, block_size_y=16, tile_size_x=4, tile_size_y=4, time=15.0504\n",
      "block_size_x=48, block_size_y=2, tile_size_x=1, tile_size_y=1, time=20.611936\n",
      "block_size_x=48, block_size_y=2, tile_size_x=1, tile_size_y=2, time=15.152112\n",
      "block_size_x=48, block_size_y=2, tile_size_x=1, tile_size_y=4, time=12.469184\n",
      "block_size_x=48, block_size_y=2, tile_size_x=2, tile_size_y=1, time=15.661504\n",
      "block_size_x=48, block_size_y=2, tile_size_x=2, tile_size_y=2, time=12.11096\n",
      "block_size_x=48, block_size_y=2, tile_size_x=2, tile_size_y=4, time=10.231152\n",
      "block_size_x=48, block_size_y=2, tile_size_x=4, tile_size_y=1, time=13.13696\n",
      "block_size_x=48, block_size_y=2, tile_size_x=4, tile_size_y=2, time=11.374576\n",
      "block_size_x=48, block_size_y=2, tile_size_x=4, tile_size_y=4, time=9.855792\n",
      "block_size_x=48, block_size_y=4, tile_size_x=1, tile_size_y=1, time=22.291952\n",
      "block_size_x=48, block_size_y=4, tile_size_x=1, tile_size_y=2, time=16.857232\n",
      "block_size_x=48, block_size_y=4, tile_size_x=1, tile_size_y=4, time=14.141776\n",
      "block_size_x=48, block_size_y=4, tile_size_x=2, tile_size_y=1, time=17.215616\n",
      "block_size_x=48, block_size_y=4, tile_size_x=2, tile_size_y=2, time=13.109312\n",
      "block_size_x=48, block_size_y=4, tile_size_x=2, tile_size_y=4, time=11.16608\n",
      "block_size_x=48, block_size_y=4, tile_size_x=4, tile_size_y=1, time=14.639136\n",
      "block_size_x=48, block_size_y=4, tile_size_x=4, tile_size_y=2, time=11.6596\n",
      "block_size_x=48, block_size_y=4, tile_size_x=4, tile_size_y=4, time=9.95208\n",
      "block_size_x=48, block_size_y=8, tile_size_x=1, tile_size_y=1, time=23.363856\n",
      "block_size_x=48, block_size_y=8, tile_size_x=1, tile_size_y=2, time=18.11\n",
      "block_size_x=48, block_size_y=8, tile_size_x=1, tile_size_y=4, time=15.07216\n",
      "block_size_x=48, block_size_y=8, tile_size_x=2, tile_size_y=1, time=17.746096\n",
      "block_size_x=48, block_size_y=8, tile_size_x=2, tile_size_y=2, time=13.951792\n",
      "block_size_x=48, block_size_y=8, tile_size_x=2, tile_size_y=4, time=11.670992\n"
     ]
    },
    {
     "name": "stdout",
     "output_type": "stream",
     "text": [
      "block_size_x=48, block_size_y=8, tile_size_x=4, tile_size_y=1, time=14.885088\n",
      "block_size_x=48, block_size_y=8, tile_size_x=4, tile_size_y=2, time=12.471776\n",
      "block_size_x=48, block_size_y=8, tile_size_x=4, tile_size_y=4, time=10.577536\n",
      "block_size_x=64, block_size_y=2, tile_size_x=1, tile_size_y=1, time=19.848208\n",
      "block_size_x=64, block_size_y=2, tile_size_x=1, tile_size_y=2, time=14.860336\n",
      "block_size_x=64, block_size_y=2, tile_size_x=1, tile_size_y=4, time=12.198352\n",
      "block_size_x=64, block_size_y=2, tile_size_x=2, tile_size_y=1, time=14.9188\n",
      "block_size_x=64, block_size_y=2, tile_size_x=2, tile_size_y=2, time=11.535072\n",
      "block_size_x=64, block_size_y=2, tile_size_x=2, tile_size_y=4, time=9.69272\n",
      "block_size_x=64, block_size_y=2, tile_size_x=4, tile_size_y=1, time=12.41072\n",
      "block_size_x=64, block_size_y=2, tile_size_x=4, tile_size_y=2, time=9.868272\n",
      "block_size_x=64, block_size_y=2, tile_size_x=4, tile_size_y=4, time=14.055984\n",
      "block_size_x=64, block_size_y=4, tile_size_x=1, tile_size_y=1, time=22.489104\n",
      "block_size_x=64, block_size_y=4, tile_size_x=1, tile_size_y=2, time=17.11704\n",
      "block_size_x=64, block_size_y=4, tile_size_x=1, tile_size_y=4, time=14.331616\n",
      "block_size_x=64, block_size_y=4, tile_size_x=2, tile_size_y=1, time=17.008032\n",
      "block_size_x=64, block_size_y=4, tile_size_x=2, tile_size_y=2, time=12.889072\n",
      "block_size_x=64, block_size_y=4, tile_size_x=2, tile_size_y=4, time=11.094768\n",
      "block_size_x=64, block_size_y=4, tile_size_x=4, tile_size_y=1, time=14.590992\n",
      "block_size_x=64, block_size_y=4, tile_size_x=4, tile_size_y=2, time=11.642896\n",
      "block_size_x=64, block_size_y=4, tile_size_x=4, tile_size_y=4, time=14.3544\n",
      "block_size_x=64, block_size_y=8, tile_size_x=1, tile_size_y=1, time=34.477472\n",
      "block_size_x=64, block_size_y=8, tile_size_x=1, tile_size_y=2, time=26.736944\n",
      "block_size_x=64, block_size_y=8, tile_size_x=1, tile_size_y=4, time=22.11104\n",
      "block_size_x=64, block_size_y=8, tile_size_x=2, tile_size_y=1, time=25.220288\n",
      "block_size_x=64, block_size_y=8, tile_size_x=2, tile_size_y=2, time=19.659328\n",
      "block_size_x=64, block_size_y=8, tile_size_x=2, tile_size_y=4, time=16.3708\n",
      "block_size_x=64, block_size_y=8, tile_size_x=4, tile_size_y=1, time=20.303984\n",
      "block_size_x=64, block_size_y=8, tile_size_x=4, tile_size_y=2, time=16.871328\n",
      "block_size_x=64, block_size_y=8, tile_size_x=4, tile_size_y=4, time=14.527152\n",
      "block_size_x=128, block_size_y=2, tile_size_x=1, tile_size_y=1, time=22.754688\n",
      "block_size_x=128, block_size_y=2, tile_size_x=1, tile_size_y=2, time=16.947104\n",
      "block_size_x=128, block_size_y=2, tile_size_x=1, tile_size_y=4, time=14.089472\n",
      "block_size_x=128, block_size_y=2, tile_size_x=2, tile_size_y=1, time=16.92088\n",
      "block_size_x=128, block_size_y=2, tile_size_x=2, tile_size_y=2, time=13.037392\n",
      "block_size_x=128, block_size_y=2, tile_size_x=2, tile_size_y=4, time=11.097776\n",
      "block_size_x=128, block_size_y=2, tile_size_x=4, tile_size_y=1, time=14.18464\n",
      "block_size_x=128, block_size_y=2, tile_size_x=4, tile_size_y=2, time=11.26192\n",
      "block_size_x=128, block_size_y=2, tile_size_x=4, tile_size_y=4, time=14.185776\n",
      "block_size_x=128, block_size_y=4, tile_size_x=1, tile_size_y=1, time=34.515792\n",
      "block_size_x=128, block_size_y=4, tile_size_x=1, tile_size_y=2, time=26.359312\n",
      "block_size_x=128, block_size_y=4, tile_size_x=1, tile_size_y=4, time=21.765232\n",
      "block_size_x=128, block_size_y=4, tile_size_x=2, tile_size_y=1, time=24.945808\n",
      "block_size_x=128, block_size_y=4, tile_size_x=2, tile_size_y=2, time=19.331776\n",
      "block_size_x=128, block_size_y=4, tile_size_x=2, tile_size_y=4, time=16.450208\n",
      "block_size_x=128, block_size_y=4, tile_size_x=4, tile_size_y=1, time=20.439056\n",
      "block_size_x=128, block_size_y=4, tile_size_x=4, tile_size_y=2, time=16.412272\n",
      "block_size_x=128, block_size_y=4, tile_size_x=4, tile_size_y=4, time=14.431776\n",
      "best performing configuration: block_size_x=32, block_size_y=4, tile_size_x=2, tile_size_y=4, time=9.607056\n"
     ]
    }
   ],
   "source": [
    "tune_params[\"tile_size_x\"] = [1,2,4]            #add tile_size_x to the tune_params\n",
    "tune_params[\"tile_size_y\"] = [1,2,4]            #add tile_size_y to the tune_params\n",
    "grid_div_x = [\"block_size_x\", \"tile_size_x\"]    #tile_size_x impacts grid dimensions\n",
    "grid_div_y = [\"block_size_y\", \"tile_size_y\"]    #tile_size_y impacts grid dimensions\n",
    "result = tune_kernel(\"diffuse_kernel\", kernel_string, problem_size, args,\n",
    "                     tune_params, grid_div_x=grid_div_x, grid_div_y=grid_div_y)"
   ]
  },
  {
   "cell_type": "markdown",
   "metadata": {
    "collapsed": true
   },
   "source": [
    "We can see that the number of kernel configurations tried by the Kernel Tuner is growing rather quickly. Also, the best performing configuration quite a bit faster than the best kernel before we started optimizing. On our GTX Titan X, the execution time went from 0.72 ms to 0.53 ms, a performance improvement of 26%!\n",
    "\n",
    "Note that the thread block dimensions for this kernel configuration are also different. Without optimizations the best performing kernel used a thread block of 32x2, after we've added tiling the best performing kernel uses thread blocks of size 64x4, which is four times as many threads! Also the amount of work increased with tiling factors 2 in the x-direction and 4 in the y-direction, increasing the amount of work per thread block by a factor of 8. The difference in the area processed per thread block between the naive and the tiled kernel is a factor 32.\n",
    "\n",
    "However, there are actually several kernel configurations that come close. The following Python code prints all instances with an execution time within 5% of the best performing configuration."
   ]
  },
  {
   "cell_type": "code",
   "execution_count": 18,
   "metadata": {},
   "outputs": [
    {
     "name": "stdout",
     "output_type": "stream",
     "text": [
      "block_size_x=16, block_size_y=4, tile_size_x=2, tile_size_y=4, time=10.064528, \n",
      "block_size_x=16, block_size_y=4, tile_size_x=4, tile_size_y=2, time=9.985392, \n",
      "block_size_x=32, block_size_y=2, tile_size_x=2, tile_size_y=4, time=9.71248, \n",
      "block_size_x=32, block_size_y=2, tile_size_x=4, tile_size_y=2, time=9.970624, \n",
      "block_size_x=32, block_size_y=4, tile_size_x=2, tile_size_y=4, time=9.607056, \n",
      "block_size_x=32, block_size_y=4, tile_size_x=4, tile_size_y=2, time=9.946544, \n",
      "block_size_x=48, block_size_y=2, tile_size_x=4, tile_size_y=4, time=9.855792, \n",
      "block_size_x=48, block_size_y=4, tile_size_x=4, tile_size_y=4, time=9.95208, \n",
      "block_size_x=64, block_size_y=2, tile_size_x=2, tile_size_y=4, time=9.69272, \n",
      "block_size_x=64, block_size_y=2, tile_size_x=4, tile_size_y=2, time=9.868272, \n"
     ]
    }
   ],
   "source": [
    "best_time = min(result[0], key=lambda x:x['time'])['time']\n",
    "for i in result[0]:\n",
    "    if i[\"time\"] < best_time*1.05:\n",
    "        print(\"\".join([k + \"=\" + str(v) + \", \" for k,v in i.items()]))"
   ]
  },
  {
   "cell_type": "markdown",
   "metadata": {
    "collapsed": true
   },
   "source": [
    "## Storing the results\n",
    "\n",
    "While it's nice that the Kernel Tuner prints the tuning results to stdout, it's not that great if we'd have to parse what is printed to get the results. That is why the `tune_kernel()` returns a data structure that holds all the results. We've actually already used this data in the above bit of Python code.\n",
    "\n",
    "`tune_kernel` returns a list of dictionaries, where each benchmarked kernel is represented by a dictionary containing the tunable parameters for that particular kernel configuration and one more entry called 'time'. The list of dictionaries format is very flexible and can easily be converted other formats that are easy to parse formats, like json or csv, for further analysis.\n",
    "\n",
    "You can execute the following code block to store the tuning results to both a json and a csv file (if you have Pandas installed)."
   ]
  },
  {
   "cell_type": "code",
   "execution_count": 19,
   "metadata": {},
   "outputs": [],
   "source": [
    "#store output as json\n",
    "import json\n",
    "with open(\"tutorial.json\", 'w') as fp:\n",
    "    json.dump(result[0], fp)\n",
    "\n",
    "#store output as csv\n",
    "from pandas import DataFrame\n",
    "df = DataFrame(result[0])\n",
    "df.to_csv(\"tutorial.csv\")"
   ]
  }
 ],
 "metadata": {
  "kernelspec": {
   "display_name": "Python 3",
   "language": "python",
   "name": "python3"
  },
  "language_info": {
   "codemirror_mode": {
    "name": "ipython",
    "version": 3
   },
   "file_extension": ".py",
   "mimetype": "text/x-python",
   "name": "python",
   "nbconvert_exporter": "python",
   "pygments_lexer": "ipython3",
   "version": "3.6.3"
  }
 },
 "nbformat": 4,
 "nbformat_minor": 1
}
